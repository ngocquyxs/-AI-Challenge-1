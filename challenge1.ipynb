{
 "cells": [
  {
   "cell_type": "markdown",
   "metadata": {},
   "source": [
    "Phase 1: Data Collection and Preprocessing\n",
    "1. Dowloading Datasets"
   ]
  },
  {
   "cell_type": "code",
   "execution_count": 1,
   "metadata": {},
   "outputs": [],
   "source": [
    "# Open 'class.txt'\n",
    "f = open(\"class.txt\", \"r\")\n",
    "\n",
    "# Read the content of “class.txt”\n",
    "classes = f.readlines()\n",
    "\n",
    "# Close “class.txt”\n",
    "f.close()"
   ]
  },
  {
   "cell_type": "code",
   "execution_count": 2,
   "metadata": {},
   "outputs": [
    {
     "name": "stdout",
     "output_type": "stream",
     "text": [
      "['car', 'eye', 'flower', 'house']\n"
     ]
    }
   ],
   "source": [
    "# Preprocess class names\n",
    "classes = [c.replace('\\n','').replace(' ','_') for c in classes]\n",
    "print(classes)"
   ]
  },
  {
   "cell_type": "code",
   "execution_count": 3,
   "metadata": {},
   "outputs": [],
   "source": [
    "# Create \"data\" Directory\n",
    "!mkdir data"
   ]
  },
  {
   "cell_type": "code",
   "execution_count": 4,
   "metadata": {},
   "outputs": [],
   "source": [
    "import urllib.request\n",
    "\n",
    "# 'download' function\n",
    "def download():\n",
    "  base = 'https://storage.googleapis.com/quickdraw_dataset/full/numpy_bitmap/'\n",
    "  for c in classes:\n",
    "    cls_url = c.replace('_', '%20')\n",
    "    path = base+cls_url+'.npy'\n",
    "    print(path)\n",
    "    urllib.request.urlretrieve(path, 'data/'+c+'.npy')"
   ]
  },
  {
   "cell_type": "code",
   "execution_count": 5,
   "metadata": {},
   "outputs": [
    {
     "name": "stdout",
     "output_type": "stream",
     "text": [
      "https://storage.googleapis.com/quickdraw_dataset/full/numpy_bitmap/car.npy\n",
      "https://storage.googleapis.com/quickdraw_dataset/full/numpy_bitmap/eye.npy\n",
      "https://storage.googleapis.com/quickdraw_dataset/full/numpy_bitmap/flower.npy\n",
      "https://storage.googleapis.com/quickdraw_dataset/full/numpy_bitmap/house.npy\n"
     ]
    }
   ],
   "source": [
    "download()"
   ]
  },
  {
   "cell_type": "markdown",
   "metadata": {},
   "source": [
    "2. Loading and Preprocessing Datasets"
   ]
  },
  {
   "cell_type": "code",
   "execution_count": 3,
   "metadata": {},
   "outputs": [],
   "source": [
    "# Import libraries\n",
    "import numpy as np\n",
    "import glob \n",
    "import os \n",
    "import matplotlib.pyplot as plt\n",
    "from random import randint\n",
    "\n",
    "%matplotlib inline"
   ]
  },
  {
   "cell_type": "code",
   "execution_count": 4,
   "metadata": {},
   "outputs": [],
   "source": [
    "# \"load_data\" function\n",
    "def load_data(root, vfold_ratio=0.2, max_items_per_class= 4000 ):\n",
    "    # Get list of 'npy' files \n",
    "    all_files = glob.glob(os.path.join(root, '*.npy'))\n",
    "\n",
    "    # Initialize variables\n",
    "    x = np.empty([0, 784]) \n",
    "    y = np.empty([0]) \n",
    "\n",
    "    # Create an array for our classes\n",
    "    class_names = []\n",
    "\n",
    "    # Load each data file\n",
    "    for idx, file in enumerate(all_files):\n",
    "\n",
    "        data = np.load(file)\n",
    "\n",
    "        # Limits the number of items per class\n",
    "        data = data[0: max_items_per_class, :]\n",
    "\n",
    "        # Create labels \n",
    "        labels = np.full(data.shape[0], idx)\n",
    "\n",
    "        # Concatenate data and labels\n",
    "        x = np.concatenate((x, data), axis=0) \n",
    "        y = np.append(y, labels) \n",
    "\n",
    "        # Extract class name \n",
    "        class_name, ext = os.path.splitext(os.path.basename(file))\n",
    "        class_names.append(class_name)\n",
    "\n",
    "    data = None\n",
    "    labels = None\n",
    "\n",
    "    # Randomize the dataset\n",
    "    permutation = np.random.permutation(y.shape[0])\n",
    "    x = x[permutation, :]\n",
    "    y = y[permutation]\n",
    "\n",
    "    # Separating into Training and Testing sets\n",
    "    vfold_size = int(x.shape[0]/100*(vfold_ratio*100))\n",
    "\n",
    "    x_test = x[0:vfold_size, :]\n",
    "    y_test = y[0:vfold_size]\n",
    "\n",
    "    x_train = x[vfold_size:x.shape[0], :]\n",
    "    y_train = y[vfold_size:y.shape[0]]\n",
    "    \n",
    "    return x_train, y_train, x_test, y_test, class_names"
   ]
  },
  {
   "cell_type": "code",
   "execution_count": 5,
   "metadata": {},
   "outputs": [],
   "source": [
    "# Use 'load_data' function\n",
    "x_train, y_train, x_test, y_test, class_names = load_data('data')\n",
    "num_classes = len(class_names)\n",
    "image_size = 28"
   ]
  },
  {
   "cell_type": "code",
   "execution_count": 6,
   "metadata": {},
   "outputs": [
    {
     "name": "stdout",
     "output_type": "stream",
     "text": [
      "eye\n"
     ]
    },
    {
     "data": {
      "image/png": "[encoded data removed]",
      "text/plain": [
       "<Figure size 640x480 with 1 Axes>"
      ]
     },
     "metadata": {},
     "output_type": "display_data"
    }
   ],
   "source": [
    "# Visualize a random sample from the training set.\n",
    "idx = randint(0, len(x_train))\n",
    "plt.imshow(x_train[idx].reshape(28,28))\n",
    "print(class_names[int(y_train[idx].item())])"
   ]
  },
  {
   "cell_type": "code",
   "execution_count": 7,
   "metadata": {},
   "outputs": [],
   "source": [
    "# Import libraries\n",
    "import tensorflow.keras as keras\n",
    "from tensorflow.keras.preprocessing.image import ImageDataGenerator\n",
    "from tensorflow.keras import models, layers\n",
    "import tensorflow as tf"
   ]
  },
  {
   "cell_type": "code",
   "execution_count": 8,
   "metadata": {},
   "outputs": [],
   "source": [
    "# Reshape images \n",
    "x_train = x_train.reshape(x_train.shape[0], image_size, image_size, 1).astype('float32')\n",
    "x_test = x_test.reshape(x_test.shape[0], image_size, image_size, 1).astype('float32')\n",
    "\n",
    "# Normalize pixel values\n",
    "x_train /= 255\n",
    "x_test /= 255\n",
    "\n",
    "# Convert class vectors to class matrices\n",
    "y_train = keras.utils.to_categorical(y_train, num_classes)\n",
    "y_test = keras.utils.to_categorical(y_test, num_classes)"
   ]
  },
  {
   "cell_type": "markdown",
   "metadata": {},
   "source": [
    "Phase 2: Model Building and Training\n",
    "\n",
    "1. Defining Model Architecture\n"
   ]
  },
  {
   "cell_type": "code",
   "execution_count": 9,
   "metadata": {},
   "outputs": [],
   "source": [
    "# Sequential model\n",
    "model = models.Sequential()\n",
    "\n",
    "model.add(layers.Conv2D(32, (3, 3), padding='same', input_shape=x_train.shape[1:], activation='relu'))\n",
    "model.add(layers.MaxPooling2D(pool_size=(2, 2)))\n",
    "\n",
    "model.add(layers.Conv2D(64, (3, 3), padding='same', activation='relu'))\n",
    "model.add(layers.MaxPooling2D(pool_size=(2, 2)))\n",
    "\n",
    "model.add(layers.Conv2D(128, (3, 3), padding='same', activation='relu'))\n",
    "model.add(layers.MaxPooling2D(pool_size=(2, 2)))\n",
    "\n",
    "# Flatten layer\n",
    "model.add(layers.Flatten())\n",
    "\n",
    "# Fully connected (Dense) layers\n",
    "model.add(layers.Dense(256, activation='relu'))\n",
    "model.add(layers.Dropout(0.5))\n",
    "\n",
    "# Output layer\n",
    "model.add(layers.Dense(4, activation='softmax'))"
   ]
  },
  {
   "cell_type": "markdown",
   "metadata": {},
   "source": [
    "2. Compiling the Model"
   ]
  },
  {
   "cell_type": "code",
   "execution_count": 10,
   "metadata": {},
   "outputs": [],
   "source": [
    "# Compile the model\n",
    "model.compile(\n",
    "    loss='categorical_crossentropy',\n",
    "    optimizer='adam',\n",
    "    metrics=['accuracy']\n",
    ")"
   ]
  },
  {
   "cell_type": "markdown",
   "metadata": {},
   "source": [
    "3. Data Augmentation"
   ]
  },
  {
   "cell_type": "code",
   "execution_count": 11,
   "metadata": {},
   "outputs": [],
   "source": [
    "# Data augmentation\n",
    "datagen = ImageDataGenerator(\n",
    "    rotation_range=20,\n",
    "    width_shift_range=0.2,\n",
    "    height_shift_range=0.2,\n",
    "    shear_range=0.2,\n",
    "    zoom_range=0.2,\n",
    "    horizontal_flip=True,\n",
    "    fill_mode='nearest'\n",
    ")\n",
    "\n",
    "datagen.fit(x_train)"
   ]
  },
  {
   "cell_type": "markdown",
   "metadata": {},
   "source": [
    "4. Training the Model"
   ]
  },
  {
   "cell_type": "code",
   "execution_count": 12,
   "metadata": {},
   "outputs": [
    {
     "name": "stdout",
     "output_type": "stream",
     "text": [
      "Epoch 1/20\n",
      "50/50 [==============================] - 4s 71ms/step - loss: 0.9998 - accuracy: 0.5647 - val_loss: 0.5396 - val_accuracy: 0.8047\n",
      "Epoch 2/20\n",
      "50/50 [==============================] - 3s 64ms/step - loss: 0.6962 - accuracy: 0.7150 - val_loss: 0.4310 - val_accuracy: 0.8609\n",
      "Epoch 3/20\n",
      "50/50 [==============================] - 3s 62ms/step - loss: 0.5698 - accuracy: 0.7956 - val_loss: 0.2678 - val_accuracy: 0.9156\n",
      "Epoch 4/20\n",
      "50/50 [==============================] - 3s 62ms/step - loss: 0.4399 - accuracy: 0.8487 - val_loss: 0.1877 - val_accuracy: 0.9400\n",
      "Epoch 5/20\n",
      "50/50 [==============================] - 3s 63ms/step - loss: 0.3797 - accuracy: 0.8797 - val_loss: 0.1558 - val_accuracy: 0.9516\n",
      "Epoch 6/20\n",
      "50/50 [==============================] - 3s 62ms/step - loss: 0.3037 - accuracy: 0.9013 - val_loss: 0.1501 - val_accuracy: 0.9531\n",
      "Epoch 7/20\n",
      "50/50 [==============================] - 3s 63ms/step - loss: 0.2916 - accuracy: 0.9072 - val_loss: 0.1356 - val_accuracy: 0.9594\n",
      "Epoch 8/20\n",
      "50/50 [==============================] - 3s 61ms/step - loss: 0.2453 - accuracy: 0.9219 - val_loss: 0.1367 - val_accuracy: 0.9597\n",
      "Epoch 9/20\n",
      "50/50 [==============================] - 3s 63ms/step - loss: 0.2276 - accuracy: 0.9247 - val_loss: 0.1104 - val_accuracy: 0.9678\n",
      "Epoch 10/20\n",
      "50/50 [==============================] - 3s 66ms/step - loss: 0.2438 - accuracy: 0.9206 - val_loss: 0.1194 - val_accuracy: 0.9647\n",
      "Epoch 11/20\n",
      "50/50 [==============================] - 3s 69ms/step - loss: 0.1953 - accuracy: 0.9434 - val_loss: 0.1756 - val_accuracy: 0.9472\n",
      "Epoch 12/20\n",
      "50/50 [==============================] - 3s 67ms/step - loss: 0.1989 - accuracy: 0.9344 - val_loss: 0.0945 - val_accuracy: 0.9703\n",
      "Epoch 13/20\n",
      "50/50 [==============================] - 3s 70ms/step - loss: 0.1913 - accuracy: 0.9425 - val_loss: 0.1051 - val_accuracy: 0.9688\n",
      "Epoch 14/20\n",
      "50/50 [==============================] - 3s 67ms/step - loss: 0.1821 - accuracy: 0.9413 - val_loss: 0.0962 - val_accuracy: 0.9719\n",
      "Epoch 15/20\n",
      "50/50 [==============================] - 3s 67ms/step - loss: 0.1751 - accuracy: 0.9500 - val_loss: 0.0949 - val_accuracy: 0.9719\n",
      "Epoch 16/20\n",
      "50/50 [==============================] - 3s 70ms/step - loss: 0.1713 - accuracy: 0.9444 - val_loss: 0.0873 - val_accuracy: 0.9734\n",
      "Epoch 17/20\n",
      "50/50 [==============================] - 3s 68ms/step - loss: 0.1569 - accuracy: 0.9488 - val_loss: 0.1016 - val_accuracy: 0.9709\n",
      "Epoch 18/20\n",
      "50/50 [==============================] - 3s 64ms/step - loss: 0.1661 - accuracy: 0.9484 - val_loss: 0.0977 - val_accuracy: 0.9697\n",
      "Epoch 19/20\n",
      "50/50 [==============================] - 3s 68ms/step - loss: 0.1494 - accuracy: 0.9556 - val_loss: 0.0765 - val_accuracy: 0.9778\n",
      "Epoch 20/20\n",
      "50/50 [==============================] - 3s 65ms/step - loss: 0.1656 - accuracy: 0.9506 - val_loss: 0.0750 - val_accuracy: 0.9775\n"
     ]
    }
   ],
   "source": [
    "# Early stopping\n",
    "early_stopping = tf.keras.callbacks.EarlyStopping(\n",
    "    monitor='val_loss',\n",
    "    patience=5,\n",
    "    restore_best_weights=True\n",
    ")\n",
    "\n",
    "# Train the model\n",
    "history = model.fit(\n",
    "    datagen.flow(x_train, y_train, batch_size=64),\n",
    "    validation_data=(x_test, y_test),\n",
    "    steps_per_epoch=len(x_train) // 256,\n",
    "    epochs=20,\n",
    "    callbacks=[early_stopping]\n",
    ")"
   ]
  },
  {
   "cell_type": "code",
   "execution_count": 13,
   "metadata": {},
   "outputs": [
    {
     "name": "stdout",
     "output_type": "stream",
     "text": [
      "Test accuarcy: 97.75%\n"
     ]
    }
   ],
   "source": [
    "# Evaluate the Model\n",
    "score = model.evaluate(x_test, y_test, verbose=0)\n",
    "print('Test accuarcy: {:0.2f}%'.format(score[1] * 100))"
   ]
  },
  {
   "cell_type": "markdown",
   "metadata": {},
   "source": [
    "5. Visualizing Results "
   ]
  },
  {
   "cell_type": "code",
   "execution_count": 14,
   "metadata": {},
   "outputs": [
    {
     "data": {
      "image/png": "[encoded data removed]",
      "text/plain": [
       "<Figure size 1200x600 with 2 Axes>"
      ]
     },
     "metadata": {},
     "output_type": "display_data"
    }
   ],
   "source": [
    "# Plot training & validation loss values\n",
    "plt.figure(figsize=(12, 6))\n",
    "plt.subplot(1, 2, 1)\n",
    "plt.plot(history.history['loss'])\n",
    "plt.plot(history.history['val_loss'])\n",
    "plt.title('Model loss')\n",
    "plt.xlabel('Epoch')\n",
    "plt.ylabel('Loss')\n",
    "plt.legend(['Train', 'Validation'], loc='upper right')\n",
    "\n",
    "# Plot training & validation accuracy values\n",
    "plt.subplot(1, 2, 2)\n",
    "plt.plot(history.history['accuracy'])\n",
    "plt.plot(history.history['val_accuracy'])\n",
    "plt.title('Model accuracy')\n",
    "plt.xlabel('Epoch')\n",
    "plt.ylabel('Accuracy')\n",
    "plt.legend(['Train', 'Validation'], loc='lower right')\n",
    "\n",
    "plt.show()"
   ]
  },
  {
   "cell_type": "markdown",
   "metadata": {},
   "source": [
    "6. Making the Inference"
   ]
  },
  {
   "cell_type": "code",
   "execution_count": 15,
   "metadata": {},
   "outputs": [
    {
     "name": "stdout",
     "output_type": "stream",
     "text": [
      "1/1 [==============================] - 0s 109ms/step\n",
      "['house', 'car', 'eye', 'flower']\n"
     ]
    },
    {
     "data": {
      "image/png": "[encoded data removed]",
      "text/plain": [
       "<Figure size 640x480 with 1 Axes>"
      ]
     },
     "metadata": {},
     "output_type": "display_data"
    }
   ],
   "source": [
    "# Inference\n",
    "idx = randint(0, len(x_test))\n",
    "img = x_test[idx]\n",
    "plt.imshow(img.squeeze())\n",
    "pred = model.predict(np.expand_dims(img, axis=0))[0]\n",
    "ind = (-pred).argsort()[:5]\n",
    "latex = [class_names[x] for x in ind]\n",
    "print(latex)"
   ]
  },
  {
   "cell_type": "markdown",
   "metadata": {},
   "source": [
    "7. Saving the Model "
   ]
  },
  {
   "cell_type": "code",
   "execution_count": 16,
   "metadata": {},
   "outputs": [],
   "source": [
    "# Store classes\n",
    "with open('class_names.txt', 'w') as file_handler:\n",
    "    for item in class_names:\n",
    "        file_handler.write(\"{}\\n\".format(item))"
   ]
  },
  {
   "cell_type": "code",
   "execution_count": 17,
   "metadata": {},
   "outputs": [
    {
     "name": "stderr",
     "output_type": "stream",
     "text": [
      "c:\\Users\\DELL\\anaconda3\\envs\\env1\\lib\\site-packages\\keras\\src\\engine\\training.py:3000: UserWarning: You are saving your model as an HDF5 file via `model.save()`. This file format is considered legacy. We recommend using instead the native Keras format, e.g. `model.save('my_model.keras')`.\n",
      "  saving_api.save_model(\n"
     ]
    }
   ],
   "source": [
    "# Save the model\n",
    "model.save('keras.h5')"
   ]
  }
 ],
 "metadata": {
  "kernelspec": {
   "display_name": "env1",
   "language": "python",
   "name": "python3"
  },
  "language_info": {
   "codemirror_mode": {
    "name": "ipython",
    "version": 3
   },
   "file_extension": ".py",
   "mimetype": "text/x-python",
   "name": "python",
   "nbconvert_exporter": "python",
   "pygments_lexer": "ipython3",
   "version": "3.8.10"
  }
 },
 "nbformat": 4,
 "nbformat_minor": 2
}
